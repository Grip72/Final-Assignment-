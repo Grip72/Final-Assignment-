{
 "cells": [
  {
   "cell_type": "markdown",
   "id": "c5cf843c-408d-46de-8079-c375862318c5",
   "metadata": {},
   "source": [
    "# Data Science Tools and Ecosystem"
   ]
  },
  {
   "cell_type": "markdown",
   "id": "18229087-5086-429e-b55a-dc7018b057c2",
   "metadata": {},
   "source": [
    "In this notebook, Data Science Tools and Ecosystem are summareized"
   ]
  },
  {
   "cell_type": "markdown",
   "id": "94ad565e-3015-4247-90a9-1c9699bf4f14",
   "metadata": {},
   "source": [
    "## Author\n",
    "Adam Velazquez\n",
    "\n",
    "**Objectives**\n",
    "- Some popular languages for Data Science\n",
    "- Common librairies used by Data Scientists\n",
    "- Using python for basic arithmetic\n"
   ]
  },
  {
   "cell_type": "markdown",
   "id": "b0feeefe-050b-4a9d-b4e2-0a32350cd2f8",
   "metadata": {},
   "source": [
    "Some of the popular languages that Data Scientists use are:\n",
    "1. R\n",
    "2. SQL\n",
    "3. Python"
   ]
  },
  {
   "cell_type": "markdown",
   "id": "3e81f02f-ba02-4dcc-b16b-f12280eeeecc",
   "metadata": {},
   "source": [
    "Some of the commonly used libraries used by Data Scientists include:\n",
    "1. Numpy\n",
    "2. Matplotlib\n",
    "3. TensorFlow"
   ]
  },
  {
   "cell_type": "markdown",
   "id": "ee920b8a-f459-49ca-a0c8-0655458f276d",
   "metadata": {},
   "source": [
    "|Data Science Tools|\n",
    "-------------------\n",
    "| Apache Sparks |\n",
    "| Jupyter Notebook |\n",
    "| Tableau |"
   ]
  },
  {
   "cell_type": "markdown",
   "id": "f35cc936-c1df-481e-ab05-e7350292143f",
   "metadata": {},
   "source": [
    "### Below are a few examples of evaluating arithmatic expressions in Python"
   ]
  },
  {
   "cell_type": "code",
   "execution_count": 1,
   "id": "e1d702b2-abe0-465a-8b2d-867fcd0110c9",
   "metadata": {},
   "outputs": [
    {
     "data": {
      "text/plain": [
       "17"
      ]
     },
     "execution_count": 1,
     "metadata": {},
     "output_type": "execute_result"
    }
   ],
   "source": [
    "# This is a simple arithmetic expression to multiply then add integers.\n",
    "\n",
    "(3*4)+5\n"
   ]
  },
  {
   "cell_type": "code",
   "execution_count": 2,
   "id": "2915cb2a-237a-41e7-ba48-359bb2b1f7a5",
   "metadata": {},
   "outputs": [
    {
     "data": {
      "text/plain": [
       "3.3333333333333335"
      ]
     },
     "execution_count": 2,
     "metadata": {},
     "output_type": "execute_result"
    }
   ],
   "source": [
    "# This will convert 200 minutes to hours by using the conversion rate of 1 hour / 60 minutes\n",
    "\n",
    "200/60"
   ]
  },
  {
   "cell_type": "code",
   "execution_count": null,
   "id": "7aee3ae5-1a29-40d8-a566-3526a5325126",
   "metadata": {},
   "outputs": [],
   "source": []
  }
 ],
 "metadata": {
  "kernelspec": {
   "display_name": "Python 3 (ipykernel)",
   "language": "python",
   "name": "python3"
  },
  "language_info": {
   "codemirror_mode": {
    "name": "ipython",
    "version": 3
   },
   "file_extension": ".py",
   "mimetype": "text/x-python",
   "name": "python",
   "nbconvert_exporter": "python",
   "pygments_lexer": "ipython3",
   "version": "3.12.4"
  }
 },
 "nbformat": 4,
 "nbformat_minor": 5
}
